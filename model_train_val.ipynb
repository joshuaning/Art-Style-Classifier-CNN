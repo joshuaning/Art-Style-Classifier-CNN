{
 "cells": [
  {
   "cell_type": "code",
   "execution_count": 1,
   "id": "ef2c59c6",
   "metadata": {},
   "outputs": [
    {
     "name": "stdout",
     "output_type": "stream",
     "text": [
      "['.DS_Store', 'data_32', 'models', 'model_train_val.ipynb', 'data_256', 'README.md', '.gitignore', '351.ipynb', 'train.py', '.ipynb_checkpoints', '.git', 'stats', 'Media']\n",
      "PyTorch Version:  2.0.0\n",
      "Torchvision Version:  0.15.0\n",
      "WARNING: Could not find GPU! Using CPU only.\n"
     ]
    }
   ],
   "source": [
    "import os\n",
    "from os import walk\n",
    "import copy\n",
    "import pickle\n",
    "\n",
    "import numpy as np\n",
    "from tqdm import tqdm\n",
    "\n",
    "import torch\n",
    "import torchvision\n",
    "from torchvision import datasets, transforms, models\n",
    "import torch.nn as nn\n",
    "import torch.nn.functional as F\n",
    "import torch.optim as optim\n",
    "import pandas as pd\n",
    "\n",
    "\n",
    "# check if files can be opened\n",
    "print(os.listdir(\"./\"))\n",
    "\n",
    "print(\"PyTorch Version: \",torch.__version__)\n",
    "print(\"Torchvision Version: \",torchvision.__version__)\n",
    "# Detect if we have a GPU available\n",
    "device = torch.device(\"cuda:0\" if torch.cuda.is_available() else \"cpu\")\n",
    "if torch.cuda.is_available():\n",
    "    print(\"Using the GPU!\")\n",
    "else:\n",
    "    print(\"WARNING: Could not find GPU! Using CPU only.\")\n",
    "\n"
   ]
  },
  {
   "cell_type": "markdown",
   "id": "187e00d3",
   "metadata": {},
   "source": [
    "# Setup Network"
   ]
  },
  {
   "cell_type": "code",
   "execution_count": 2,
   "id": "855362bb",
   "metadata": {},
   "outputs": [],
   "source": [
    "b_size = 16\n",
    "transform = transforms.Compose([transforms.ToTensor(), \n",
    "                                transforms.Normalize([0.5162, 0.4644, 0.3975], \n",
    "                                                    [0.2728, 0.2641, 0.2575])])\n",
    "dataset = datasets.ImageFolder(\"./data_256/art_pictures/train\",\n",
    "                            transform=transform)\n",
    "dataloader = torch.utils.data.DataLoader(dataset, batch_size=b_size, \n",
    "                                        shuffle=True, num_workers=4)"
   ]
  },
  {
   "cell_type": "code",
   "execution_count": null,
   "id": "b58576b7",
   "metadata": {
    "scrolled": true
   },
   "outputs": [],
   "source": [
    "\n",
    "# implementation of VGG-BN for 3*256*256 inputs\n",
    "class Net(nn.Module):\n",
    "    def __init__(self):\n",
    "        super().__init__()\n",
    "        self.conv1 = nn.Sequential(\n",
    "            nn.Conv2d(3, 64, 3, padding=(1,1)),\n",
    "            nn.BatchNorm2d(64),\n",
    "            nn.ReLU(inplace = True))\n",
    "\n",
    "        self.conv2 = nn.Sequential(\n",
    "            nn.Conv2d(64, 64, 3, padding=(1,1)),\n",
    "            nn.BatchNorm2d(64),\n",
    "            nn.ReLU(inplace = True)\n",
    "        )\n",
    "\n",
    "        self.pool1 = nn.MaxPool2d(kernel_size=2, stride=2, padding=0, dilation = 1, ceil_mode=False)\n",
    "\n",
    "        self.conv3 = nn.Sequential(\n",
    "            nn.Conv2d(64, 128, 3, padding=(1,1)),\n",
    "            nn.BatchNorm2d(128),\n",
    "            nn.ReLU(inplace = True))\n",
    "\n",
    "        self.conv4 = nn.Sequential(\n",
    "            nn.Conv2d(128, 128, 3, padding=(1,1)),\n",
    "            nn.BatchNorm2d(128),\n",
    "            nn.ReLU(inplace = True))\n",
    "\n",
    "        self.pool2 = nn.MaxPool2d(kernel_size=2, stride=2, padding=0, dilation = 1, ceil_mode=False)\n",
    "\n",
    "        self.conv5 = nn.Sequential(\n",
    "            nn.Conv2d(128, 256, 3, padding=(1,1)),\n",
    "            nn.BatchNorm2d(256),\n",
    "            nn.ReLU(inplace = True))\n",
    "\n",
    "        self.conv6 = nn.Sequential(\n",
    "            nn.Conv2d(256, 256, 3, padding=(1,1)),\n",
    "            nn.BatchNorm2d(256),\n",
    "            nn.ReLU(inplace = True))\n",
    "\n",
    "        self.conv7 = nn.Sequential(\n",
    "            nn.Conv2d(256, 256, 3, padding=(1,1)),\n",
    "            nn.BatchNorm2d(256),\n",
    "            nn.ReLU(inplace = True))\n",
    "\n",
    "        self.pool3 = nn.MaxPool2d(kernel_size=2, stride=2, padding=0, dilation = 1, ceil_mode=False)\n",
    "\n",
    "        self.conv8 = nn.Sequential(\n",
    "            nn.Conv2d(256, 512, 3, padding=(1,1)),\n",
    "            nn.BatchNorm2d(512),\n",
    "            nn.ReLU(inplace = True))\n",
    "\n",
    "        self.conv9 = nn.Sequential(\n",
    "            nn.Conv2d(512, 512, 3, padding=(1,1)),\n",
    "            nn.BatchNorm2d(512),\n",
    "            nn.ReLU(inplace = True))\n",
    "\n",
    "        self.conv10 = nn.Sequential(\n",
    "            nn.Conv2d(512, 512, 3, padding=(1,1)),\n",
    "            nn.BatchNorm2d(512),\n",
    "            nn.ReLU(inplace = True))\n",
    "\n",
    "        self.pool4 = nn.MaxPool2d(kernel_size=2, stride=2, padding=0, dilation = 1, ceil_mode=False)\n",
    "\n",
    "        self.conv11 = nn.Sequential(\n",
    "            nn.Conv2d(512, 512, 3, padding=(1,1)),\n",
    "            nn.BatchNorm2d(512),\n",
    "            nn.ReLU(inplace = True))\n",
    "\n",
    "        self.conv12 = nn.Sequential(\n",
    "            nn.Conv2d(512, 512, 3, padding=(1,1)),\n",
    "            nn.BatchNorm2d(512),\n",
    "            nn.ReLU(inplace = True))\n",
    "\n",
    "        self.conv13 = nn.Sequential(\n",
    "            nn.Conv2d(512, 512, 3, padding=(1,1)),\n",
    "            nn.BatchNorm2d(512),\n",
    "            nn.ReLU(inplace = True))\n",
    "\n",
    "        self.pool5 = nn.MaxPool2d(kernel_size=2, stride=2, padding=0, dilation = 1, ceil_mode=False)\n",
    "\n",
    "\n",
    "        self.adaptive = nn.AdaptiveAvgPool2d(output_size=(7,7))\n",
    "\n",
    "        self.fc1 = nn.Sequential(\n",
    "            nn.Linear(in_features=25088, out_features = 4096, bias = True),\n",
    "            nn.ReLU(inplace = True),\n",
    "            nn.Dropout(p=0.3, inplace = False))\n",
    "\n",
    "        self.fc2 = nn.Sequential(\n",
    "            nn.Linear(in_features=4096, out_features = 4096, bias = True),\n",
    "            nn.ReLU(inplace = True),\n",
    "            nn.Dropout(p=0.3, inplace = False))\n",
    "\n",
    "        self.fc3 = nn.Linear(in_features=4096, out_features = 10, bias = True)\n",
    "\n",
    "    def forward(self, x):\n",
    "        x = self.conv1(x) \n",
    "        x = self.conv2(x) \n",
    "        x = self.pool1(x) \n",
    "        x = self.conv3(x) \n",
    "        x = self.conv4(x) \n",
    "        x = self.pool2(x) \n",
    "        x = self.conv5(x) \n",
    "        x = self.conv6(x)   \n",
    "        x = self.conv7(x)  \n",
    "        x = self.pool3(x) \n",
    "        x = self.conv8(x) \n",
    "        x = self.conv9(x) \n",
    "        x = self.conv10(x)\n",
    "        x = self.pool4(x)\n",
    "        x = self.conv11(x)\n",
    "        x = self.conv12(x)\n",
    "        x = self.conv13(x)\n",
    "        x = self.pool5(x)\n",
    "        x = self.adaptive(x)\n",
    "        x = torch.flatten(x, 1)\n",
    "        x = self.fc1(x)\n",
    "        x = self.fc2(x)\n",
    "        x = self.fc3(x)\n",
    "        return x\n",
    "\n",
    "net = Net()\n",
    "net.to(device)\n"
   ]
  },
  {
   "cell_type": "code",
   "execution_count": 4,
   "id": "131ab23d",
   "metadata": {},
   "outputs": [],
   "source": [
    "criterion = nn.CrossEntropyLoss()\n",
    "optimizer = optim.SGD(net.parameters(), lr=0.001, momentum=0.9)"
   ]
  },
  {
   "cell_type": "markdown",
   "id": "51ebec61",
   "metadata": {},
   "source": [
    "# Start training\n",
    "In case of interruption during training, change the save point variable to start from there</br>\n",
    "Default save point value should be 0"
   ]
  },
  {
   "cell_type": "code",
   "execution_count": 11,
   "id": "a7543d1e",
   "metadata": {},
   "outputs": [],
   "source": [
    "save_point = 16 #in case connection lost, load data again"
   ]
  },
  {
   "cell_type": "code",
   "execution_count": null,
   "id": "dab85b87",
   "metadata": {},
   "outputs": [],
   "source": [
    "check_point = {'model_state_dict':\n",
    "               torch.load('./model_saves/epoch_{}.pth'.format(save_point),\n",
    "                          map_location=torch.device(device))}\n",
    "net.load_state_dict(check_point['model_state_dict'])"
   ]
  },
  {
   "cell_type": "code",
   "execution_count": null,
   "id": "d526562e",
   "metadata": {
    "scrolled": false
   },
   "outputs": [],
   "source": [
    "num_epoch = 50\n",
    "total_step = len(dataloader)\n",
    "stats = np.empty((0,4), float)\n",
    "\n",
    "\n",
    "for epoch in tqdm(range(save_point, num_epoch)):  # loop over the dataset multiple times\n",
    "    running_loss = 0.0\n",
    "    running_correct = 0\n",
    "    print('------ Starting Epoch [{}/{}] ------'.format(epoch+1, num_epoch))\n",
    "    for i, data in enumerate(dataloader, 0):\n",
    "        inputs, labels = data\n",
    "        inputs = inputs.to(device)\n",
    "        labels = labels.to(device)\n",
    "\n",
    "        # forward\n",
    "        optimizer.zero_grad()\n",
    "        outputs = net(inputs)\n",
    "        loss = criterion(outputs, labels)\n",
    "        preds = torch.argmax(outputs, dim=1)\n",
    "\n",
    "        # back prop\n",
    "        loss.backward()\n",
    "        optimizer.step()\n",
    "\n",
    "        # stats\n",
    "        running_loss += loss.item()*inputs.size(0)\n",
    "        curr_correct = torch.sum(preds == labels)\n",
    "        running_correct += curr_correct\n",
    "        stats = np.vstack((stats, np.array([curr_correct.cpu(), running_loss, running_correct.cpu(), (i+1)*b_size])))\n",
    "        print('Epoch [{}/{}], Step [{}/{}], Running Loss: {:.4f}, running Correct: [{}/{}]'\n",
    "            .format(epoch+1, num_epoch, i+1, total_step, running_loss, running_correct, (i+1)*b_size))\n",
    "\n",
    "    #save trained model every epoch\n",
    "    PATH = './model_saves/epoch_{}.pth'.format(epoch+1)\n",
    "    torch.save(net.state_dict(), PATH)\n",
    "\n",
    "    DF = pd.DataFrame(stats)\n",
    "    DF.to_csv('./stats_saves/stats_epoch_{}.csv'.format(epoch+1)) \n",
    "\n",
    "print('Finished Training')\n"
   ]
  },
  {
   "cell_type": "markdown",
   "id": "95269a27",
   "metadata": {},
   "source": [
    "# Evaluation"
   ]
  },
  {
   "cell_type": "code",
   "execution_count": 5,
   "id": "9be38fb6",
   "metadata": {},
   "outputs": [],
   "source": [
    "test_set = datasets.ImageFolder(\"./data_256/art_pictures/test\",\n",
    "                               transform=transform)\n",
    "testloader = torch.utils.data.DataLoader(test_set, shuffle=True,batch_size=32)"
   ]
  },
  {
   "cell_type": "markdown",
   "id": "a1753a81",
   "metadata": {},
   "source": [
    "## Evaluate over a range of saved models"
   ]
  },
  {
   "cell_type": "code",
   "execution_count": null,
   "id": "f2a576d5",
   "metadata": {},
   "outputs": [],
   "source": [
    "eval_epoch_start = 0;\n",
    "eval_epoch_end = 50;\n",
    "\n",
    "correct = 0\n",
    "total = 0\n",
    "all_preds = np.empty((0,32), int)\n",
    "all_labels = np.empty((0,32), int)\n",
    "\n",
    "\n",
    "with torch.no_grad():\n",
    "    for epochs in range(eval_epoch_start, eval_epoch_end + 1):\n",
    "        check_point = {'model_state_dict':\n",
    "                       torch.load('./model_saves/epoch_{}.pth'.format(epochs),\n",
    "                                  map_location=torch.device(device))}\n",
    "        net.load_state_dict(check_point['model_state_dict'])\n",
    "        for i, data in tqdm(enumerate(testloader, 0)):\n",
    "\n",
    "            test_images, test_labels = data\n",
    "            test_images = test_images.to(device)\n",
    "            test_labels = test_labels.to(device)\n",
    "            # calculate outputs by running images through the network\n",
    "            outputs = net(test_images)\n",
    "            # the class with the highest energy is what we choose as prediction\n",
    "            preds = torch.argmax(outputs, dim=1)\n",
    "            total += test_labels.size(0)\n",
    "            correct += torch.sum(preds == test_labels)\n",
    "\n",
    "            all_preds = np.append(all_preds, preds.cpu().numpy())\n",
    "            all_labels = np.append(all_labels, test_labels.cpu().numpy())\n",
    "\n",
    "        print('Accuracy of the network on the epoch {} : {} %'.format(epochs, 100 * correct / total))"
   ]
  },
  {
   "cell_type": "markdown",
   "id": "5b7c7230",
   "metadata": {},
   "source": [
    "## Evaluate accuracy of an epoch from one saved model"
   ]
  },
  {
   "cell_type": "code",
   "execution_count": 8,
   "id": "d9e0bb3a",
   "metadata": {},
   "outputs": [
    {
     "name": "stderr",
     "output_type": "stream",
     "text": [
      "313it [1:12:21, 13.87s/it]\n"
     ]
    }
   ],
   "source": [
    "correct = 0\n",
    "total = 0\n",
    "all_preds = np.empty((0,32), int)\n",
    "all_labels = np.empty((0,32), int)\n",
    "\n",
    "load_path = './models/{}.pth'.format('epoch_19_bs16')\n",
    "\n",
    "check_point = {'model_state_dict':torch.load(load_path, map_location=torch.device(device))}\n",
    "net.load_state_dict(check_point['model_state_dict'])\n",
    "\n",
    "with torch.no_grad():\n",
    "    for i, data in tqdm(enumerate(testloader, 0)):\n",
    "        test_images, test_labels = data\n",
    "        test_images = test_images.to(device)\n",
    "        test_labels = test_labels.to(device)\n",
    "        # calculate outputs by running images through the network\n",
    "        outputs = net(test_images)\n",
    "        # the class with the highest energy is what we choose as prediction\n",
    "        preds = torch.argmax(outputs, dim=1)\n",
    "        total += test_labels.size(0)\n",
    "        correct += torch.sum(preds == test_labels)\n",
    "\n",
    "        all_preds = np.append(all_preds, preds.cpu().numpy())\n",
    "        all_labels = np.append(all_labels, test_labels.cpu().numpy())\n",
    "\n",
    "\n"
   ]
  },
  {
   "cell_type": "markdown",
   "id": "56751576",
   "metadata": {},
   "source": [
    "## Generate Confusion Matrix"
   ]
  },
  {
   "cell_type": "code",
   "execution_count": 10,
   "id": "2b2928e2",
   "metadata": {},
   "outputs": [
    {
     "name": "stderr",
     "output_type": "stream",
     "text": [
      "/var/folders/_x/wr_809dd1fn6w0377xcj_jnh0000gn/T/ipykernel_82887/2945793409.py:21: UserWarning: FixedFormatter should only be used together with FixedLocator\n",
      "  ax.set_xticklabels(axis_label)\n",
      "/var/folders/_x/wr_809dd1fn6w0377xcj_jnh0000gn/T/ipykernel_82887/2945793409.py:22: UserWarning: FixedFormatter should only be used together with FixedLocator\n",
      "  ax.set_yticklabels(axis_label)\n"
     ]
    },
    {
     "data": {
      "image/png": "[encoded data removed]",
      "text/plain": [
       "<Figure size 720x720 with 1 Axes>"
      ]
     },
     "metadata": {
      "needs_background": "light"
     },
     "output_type": "display_data"
    }
   ],
   "source": [
    "from torchmetrics.classification import MulticlassConfusionMatrix\n",
    "import matplotlib.pyplot as plt\n",
    "\n",
    "axis_label =   [\"art_nouveau\",\n",
    "                \"baroque\",\n",
    "                \"expressionism\",\n",
    "                \"impressionism\",\n",
    "                \"post_impressionism\",\n",
    "                \"realism\",\n",
    "                \"renaissance\",\n",
    "                \"romanticism\",\n",
    "                \"surrealism\",\n",
    "                \"ukiyo_e\"]\n",
    "\n",
    "confmat = MulticlassConfusionMatrix(task=\"multiclass\", num_classes=10)\n",
    "confmat = confmat(torch.from_numpy(all_preds), torch.from_numpy(all_labels))\n",
    "confmat.numpy()\n",
    "fig, ax = plt.subplots(figsize=(10, 10))\n",
    "\n",
    "im = ax.imshow(confmat, cmap=\"YlGn\")\n",
    "ax.set_xticklabels(axis_label)\n",
    "ax.set_yticklabels(axis_label)\n",
    "ax.set_xticks(np.arange(len(axis_label)))\n",
    "ax.set_yticks(np.arange(len(axis_label)))\n",
    "\n",
    "plt.setp(ax.get_xticklabels(), rotation=45, ha=\"right\",\n",
    "         rotation_mode=\"anchor\")\n",
    "\n",
    "for i in range(len(axis_label)):\n",
    "    for j in range(len(axis_label)):\n",
    "        if((i == j) and (i == 9)):\n",
    "            text = ax.text(j, i, confmat[i, j].numpy()/1000,\n",
    "                           ha=\"center\", va=\"center\", color=\"#FFFFFF\")\n",
    "        else:\n",
    "            text = ax.text(j, i, confmat[i, j].numpy()/1000,\n",
    "                           ha=\"center\", va=\"center\", color=\"#000000\")\n",
    "\n",
    "ax.set_title(\"Confusion matrix\")\n",
    "fig.tight_layout()\n",
    "plt.show()"
   ]
  },
  {
   "cell_type": "code",
   "execution_count": null,
   "id": "58683c17",
   "metadata": {},
   "outputs": [],
   "source": []
  }
 ],
 "metadata": {
  "kernelspec": {
   "display_name": "Python 3 (ipykernel)",
   "language": "python",
   "name": "python3"
  },
  "language_info": {
   "codemirror_mode": {
    "name": "ipython",
    "version": 3
   },
   "file_extension": ".py",
   "mimetype": "text/x-python",
   "name": "python",
   "nbconvert_exporter": "python",
   "pygments_lexer": "ipython3",
   "version": "3.9.7"
  }
 },
 "nbformat": 4,
 "nbformat_minor": 5
}
